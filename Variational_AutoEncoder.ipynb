{
  "nbformat": 4,
  "nbformat_minor": 0,
  "metadata": {
    "colab": {
      "provenance": [],
      "gpuType": "T4"
    },
    "kernelspec": {
      "name": "python3",
      "display_name": "Python 3"
    },
    "language_info": {
      "name": "python"
    },
    "accelerator": "GPU"
  },
  "cells": [
    {
      "cell_type": "code",
      "execution_count": 3,
      "metadata": {
        "id": "Z__2jfMICV5A"
      },
      "outputs": [],
      "source": []
    },
    {
      "cell_type": "code",
      "source": [
        "import tensorflow as tf\n",
        "from tensorflow.keras import layers\n",
        "import numpy as np\n",
        "import matplotlib.pyplot as plt\n",
        "\n",
        "# Load MNIST\n",
        "(x_train, _), (x_test, _) = tf.keras.datasets.mnist.load_data()\n",
        "x_train = x_train.astype(\"float32\") / 255.\n",
        "x_test = x_test.astype(\"float32\") / 255.\n",
        "\n",
        "# Use small data for CPU testing\n",
        "x_train = x_train[:2000]\n",
        "x_test = x_test[:10]\n",
        "\n",
        "x_train = np.reshape(x_train, (-1, 28, 28, 1))\n",
        "x_test = np.reshape(x_test, (-1, 28, 28, 1))\n",
        "\n",
        "latent_dim = 2\n",
        "\n",
        "# Encoder\n",
        "class Encoder(tf.keras.Model):\n",
        "    def __init__(self, latent_dim):\n",
        "        super().__init__()\n",
        "        self.flatten = layers.Flatten()\n",
        "        self.dense1 = layers.Dense(128, activation='relu')\n",
        "        self.z_mean = layers.Dense(latent_dim)\n",
        "        self.z_log_var = layers.Dense(latent_dim)\n",
        "\n",
        "    def call(self, x):\n",
        "        x = self.flatten(x)\n",
        "        x = self.dense1(x)\n",
        "        return self.z_mean(x), self.z_log_var(x)\n",
        "\n",
        "# Sampling trick\n",
        "class Sampler(tf.keras.layers.Layer):\n",
        "    def call(self, inputs):\n",
        "        z_mean, z_log_var = inputs\n",
        "        epsilon = tf.random.normal(shape=tf.shape(z_mean))\n",
        "        return z_mean + tf.exp(0.5 * z_log_var) * epsilon\n",
        "\n",
        "# Decoder\n",
        "class Decoder(tf.keras.Model):\n",
        "    def __init__(self):\n",
        "        super().__init__()\n",
        "        self.dense1 = layers.Dense(128, activation='relu')\n",
        "        self.dense2 = layers.Dense(28 * 28, activation='sigmoid')\n",
        "        self.reshape = layers.Reshape((28, 28, 1))\n",
        "\n",
        "    def call(self, z):\n",
        "        x = self.dense1(z)\n",
        "        x = self.dense2(x)\n",
        "        return self.reshape(x)\n",
        "\n",
        "# Full VAE model\n",
        "class VAE(tf.keras.Model):\n",
        "    def __init__(self, latent_dim):\n",
        "        super().__init__()\n",
        "        self.encoder = Encoder(latent_dim)\n",
        "        self.sampler = Sampler()\n",
        "        self.decoder = Decoder()\n",
        "\n",
        "    def call(self, x):\n",
        "        z_mean, z_log_var = self.encoder(x)\n",
        "        z = self.sampler((z_mean, z_log_var))\n",
        "        reconstructed = self.decoder(z)\n",
        "        return reconstructed, z_mean, z_log_var\n",
        "\n",
        "    def train_step(self, data):\n",
        "        if isinstance(data, tuple):\n",
        "            data = data[0]\n",
        "        with tf.GradientTape() as tape:\n",
        "            reconstructed, z_mean, z_log_var = self(data)\n",
        "            reconstruction_loss = tf.reduce_mean(tf.keras.losses.binary_crossentropy(data, reconstructed))\n",
        "            kl_loss = -0.5 * tf.reduce_mean(tf.reduce_sum(\n",
        "                1 + z_log_var - tf.square(z_mean) - tf.exp(z_log_var), axis=1))\n",
        "            total_loss = reconstruction_loss + kl_loss\n",
        "        grads = tape.gradient(total_loss, self.trainable_variables)\n",
        "        self.optimizer.apply_gradients(zip(grads, self.trainable_variables))\n",
        "        return {\"loss\": total_loss, \"reconstruction_loss\": reconstruction_loss, \"kl_loss\": kl_loss}\n",
        "\n",
        "# Create and train\n",
        "vae = VAE(latent_dim=latent_dim)\n",
        "vae.compile(optimizer='adam')\n",
        "vae.fit(x_train, x_train, epochs=20, batch_size=64, verbose=1)\n",
        "\n",
        "# 🔍 Test on first image\n",
        "reconstructed, _, _ = vae(x_test)\n",
        "reconstructed = reconstructed.numpy()\n",
        "\n",
        "# 🔎 Show original vs reconstructed\n",
        "plt.figure(figsize=(4, 2))\n",
        "plt.subplot(1, 2, 1)\n",
        "plt.title(\"Original\")\n",
        "plt.imshow(x_test[0].squeeze(), cmap='gray')\n",
        "plt.axis('off')\n",
        "\n",
        "plt.subplot(1, 2, 2)\n",
        "plt.title(\"Reconstructed\")\n",
        "plt.imshow(reconstructed[0].squeeze(), cmap='gray')\n",
        "plt.axis('off')\n",
        "plt.show()\n"
      ],
      "metadata": {
        "colab": {
          "base_uri": "https://localhost:8080/",
          "height": 894
        },
        "id": "de8EqRpgCb9D",
        "outputId": "4a0b8d69-b63b-4660-a59e-17842ac9914e"
      },
      "execution_count": 6,
      "outputs": [
        {
          "output_type": "stream",
          "name": "stdout",
          "text": [
            "Epoch 1/20\n",
            "\u001b[1m32/32\u001b[0m \u001b[32m━━━━━━━━━━━━━━━━━━━━\u001b[0m\u001b[37m\u001b[0m \u001b[1m4s\u001b[0m 42ms/step - kl_loss: 0.0741 - loss: 0.7081 - reconstruction_loss: 0.6341\n",
            "Epoch 2/20\n",
            "\u001b[1m32/32\u001b[0m \u001b[32m━━━━━━━━━━━━━━━━━━━━\u001b[0m\u001b[37m\u001b[0m \u001b[1m3s\u001b[0m 3ms/step - kl_loss: 0.0159 - loss: 0.5008 - reconstruction_loss: 0.4849\n",
            "Epoch 3/20\n",
            "\u001b[1m32/32\u001b[0m \u001b[32m━━━━━━━━━━━━━━━━━━━━\u001b[0m\u001b[37m\u001b[0m \u001b[1m0s\u001b[0m 3ms/step - kl_loss: 0.0097 - loss: 0.3743 - reconstruction_loss: 0.3646\n",
            "Epoch 4/20\n",
            "\u001b[1m32/32\u001b[0m \u001b[32m━━━━━━━━━━━━━━━━━━━━\u001b[0m\u001b[37m\u001b[0m \u001b[1m0s\u001b[0m 3ms/step - kl_loss: 0.0069 - loss: 0.3157 - reconstruction_loss: 0.3088\n",
            "Epoch 5/20\n",
            "\u001b[1m32/32\u001b[0m \u001b[32m━━━━━━━━━━━━━━━━━━━━\u001b[0m\u001b[37m\u001b[0m \u001b[1m0s\u001b[0m 3ms/step - kl_loss: 0.0052 - loss: 0.2904 - reconstruction_loss: 0.2852\n",
            "Epoch 6/20\n",
            "\u001b[1m32/32\u001b[0m \u001b[32m━━━━━━━━━━━━━━━━━━━━\u001b[0m\u001b[37m\u001b[0m \u001b[1m0s\u001b[0m 3ms/step - kl_loss: 0.0042 - loss: 0.2784 - reconstruction_loss: 0.2742\n",
            "Epoch 7/20\n",
            "\u001b[1m32/32\u001b[0m \u001b[32m━━━━━━━━━━━━━━━━━━━━\u001b[0m\u001b[37m\u001b[0m \u001b[1m0s\u001b[0m 3ms/step - kl_loss: 0.0036 - loss: 0.2750 - reconstruction_loss: 0.2714\n",
            "Epoch 8/20\n",
            "\u001b[1m32/32\u001b[0m \u001b[32m━━━━━━━━━━━━━━━━━━━━\u001b[0m\u001b[37m\u001b[0m \u001b[1m0s\u001b[0m 3ms/step - kl_loss: 0.0030 - loss: 0.2706 - reconstruction_loss: 0.2676\n",
            "Epoch 9/20\n",
            "\u001b[1m32/32\u001b[0m \u001b[32m━━━━━━━━━━━━━━━━━━━━\u001b[0m\u001b[37m\u001b[0m \u001b[1m0s\u001b[0m 3ms/step - kl_loss: 0.0026 - loss: 0.2699 - reconstruction_loss: 0.2673\n",
            "Epoch 10/20\n",
            "\u001b[1m32/32\u001b[0m \u001b[32m━━━━━━━━━━━━━━━━━━━━\u001b[0m\u001b[37m\u001b[0m \u001b[1m0s\u001b[0m 3ms/step - kl_loss: 0.0023 - loss: 0.2671 - reconstruction_loss: 0.2648\n",
            "Epoch 11/20\n",
            "\u001b[1m32/32\u001b[0m \u001b[32m━━━━━━━━━━━━━━━━━━━━\u001b[0m\u001b[37m\u001b[0m \u001b[1m0s\u001b[0m 3ms/step - kl_loss: 0.0020 - loss: 0.2667 - reconstruction_loss: 0.2647\n",
            "Epoch 12/20\n",
            "\u001b[1m32/32\u001b[0m \u001b[32m━━━━━━━━━━━━━━━━━━━━\u001b[0m\u001b[37m\u001b[0m \u001b[1m0s\u001b[0m 3ms/step - kl_loss: 0.0018 - loss: 0.2660 - reconstruction_loss: 0.2642\n",
            "Epoch 13/20\n",
            "\u001b[1m32/32\u001b[0m \u001b[32m━━━━━━━━━━━━━━━━━━━━\u001b[0m\u001b[37m\u001b[0m \u001b[1m0s\u001b[0m 3ms/step - kl_loss: 0.0016 - loss: 0.2663 - reconstruction_loss: 0.2646\n",
            "Epoch 14/20\n",
            "\u001b[1m32/32\u001b[0m \u001b[32m━━━━━━━━━━━━━━━━━━━━\u001b[0m\u001b[37m\u001b[0m \u001b[1m0s\u001b[0m 3ms/step - kl_loss: 0.0015 - loss: 0.2634 - reconstruction_loss: 0.2619\n",
            "Epoch 15/20\n",
            "\u001b[1m32/32\u001b[0m \u001b[32m━━━━━━━━━━━━━━━━━━━━\u001b[0m\u001b[37m\u001b[0m \u001b[1m0s\u001b[0m 3ms/step - kl_loss: 0.0013 - loss: 0.2645 - reconstruction_loss: 0.2632\n",
            "Epoch 16/20\n",
            "\u001b[1m32/32\u001b[0m \u001b[32m━━━━━━━━━━━━━━━━━━━━\u001b[0m\u001b[37m\u001b[0m \u001b[1m0s\u001b[0m 3ms/step - kl_loss: 0.0012 - loss: 0.2639 - reconstruction_loss: 0.2627\n",
            "Epoch 17/20\n",
            "\u001b[1m32/32\u001b[0m \u001b[32m━━━━━━━━━━━━━━━━━━━━\u001b[0m\u001b[37m\u001b[0m \u001b[1m0s\u001b[0m 3ms/step - kl_loss: 0.0011 - loss: 0.2653 - reconstruction_loss: 0.2642\n",
            "Epoch 18/20\n",
            "\u001b[1m32/32\u001b[0m \u001b[32m━━━━━━━━━━━━━━━━━━━━\u001b[0m\u001b[37m\u001b[0m \u001b[1m0s\u001b[0m 3ms/step - kl_loss: 0.0010 - loss: 0.2631 - reconstruction_loss: 0.2620\n",
            "Epoch 19/20\n",
            "\u001b[1m32/32\u001b[0m \u001b[32m━━━━━━━━━━━━━━━━━━━━\u001b[0m\u001b[37m\u001b[0m \u001b[1m0s\u001b[0m 3ms/step - kl_loss: 9.2843e-04 - loss: 0.2632 - reconstruction_loss: 0.2623\n",
            "Epoch 20/20\n",
            "\u001b[1m32/32\u001b[0m \u001b[32m━━━━━━━━━━━━━━━━━━━━\u001b[0m\u001b[37m\u001b[0m \u001b[1m0s\u001b[0m 3ms/step - kl_loss: 8.9212e-04 - loss: 0.2626 - reconstruction_loss: 0.2617\n"
          ]
        },
        {
          "output_type": "display_data",
          "data": {
            "text/plain": [
              "<Figure size 400x200 with 2 Axes>"
            ],
            "image/png": "[encoded data removed]"
          },
          "metadata": {}
        }
      ]
    },
    {
      "cell_type": "code",
      "source": [
        "# 🔥 Random sampling from latent space\n",
        "n = 1  # how many images you want\n",
        "random_latents = tf.random.normal(shape=(n, latent_dim))\n",
        "generated_images = vae.decoder(random_latents).numpy()\n",
        "\n",
        "# 🖼️ Show generated images\n",
        "plt.figure(figsize=(n, 2))\n",
        "for i in range(n):\n",
        "    plt.subplot(1, n, i + 1)\n",
        "    plt.imshow(generated_images[i].squeeze(), cmap='gray')\n",
        "    plt.title(f\"z={random_latents[i].numpy().round(2)}\")\n",
        "    plt.axis('off')\n",
        "plt.suptitle(\"Generated from random z ~ N(0, I)\")\n",
        "plt.show()\n"
      ],
      "metadata": {
        "colab": {
          "base_uri": "https://localhost:8080/",
          "height": 172
        },
        "id": "_nXC7ntuDCXW",
        "outputId": "a8621f08-25fa-4c05-f1b7-920783cf4855"
      },
      "execution_count": 11,
      "outputs": [
        {
          "output_type": "display_data",
          "data": {
            "text/plain": [
              "<Figure size 100x200 with 1 Axes>"
            ],
            "image/png": "[encoded data removed]"
          },
          "metadata": {}
        }
      ]
    },
    {
      "cell_type": "code",
      "source": [],
      "metadata": {
        "id": "HpHlc0ZHDprD"
      },
      "execution_count": 9,
      "outputs": []
    },
    {
      "cell_type": "code",
      "source": [],
      "metadata": {
        "id": "uhP4wuWeEZQd"
      },
      "execution_count": 10,
      "outputs": []
    },
    {
      "cell_type": "code",
      "source": [],
      "metadata": {
        "id": "9XmRP7Q3EuoE"
      },
      "execution_count": null,
      "outputs": []
    }
  ]
}